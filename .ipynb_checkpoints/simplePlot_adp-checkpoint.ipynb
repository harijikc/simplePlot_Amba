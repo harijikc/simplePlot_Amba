{
 "cells": [
  {
   "cell_type": "markdown",
   "metadata": {},
   "source": [
    "# Simple plot of data from txt file\n",
    "## txt file contains text lines and numerical data\n",
    "- Comments: # for **single line comment** and ''' lines ''' for **multilines comment**\n",
    "- **Shortcut command to run** file.ipynb in Jupyter in windows OS: Shift+Enter \n",
    "- \n",
    "- open txt file\n",
    "- create emply lists for x and y values\n",
    "- read line by line from txt file\n",
    "- if line starts with any character (here #), continue without doing anything\n",
    "- if line starts with other than #, then slpit the line by delimiter (here is a space)\n",
    "- specify which are which\n",
    "- add those values in respective parameters, if needed\n",
    "- plot interested lists\n",
    "- format plot\n",
    "- save plot"
   ]
  },
  {
   "cell_type": "code",
   "execution_count": 55,
   "metadata": {},
   "outputs": [],
   "source": [
    "import matplotlib.pyplot as plt         # only one module is necessary here for this practice\n",
    "#import random as random                # if no need, comment \n",
    "#import json as json\n",
    "#import pandas as pd\n",
    "import numpy as np"
   ]
  },
  {
   "cell_type": "code",
   "execution_count": 64,
   "metadata": {},
   "outputs": [
    {
     "ename": "SyntaxError",
     "evalue": "unexpected character after line continuation character (<ipython-input-64-a030d442effc>, line 35)",
     "output_type": "error",
     "traceback": [
      "\u001b[1;36m  File \u001b[1;32m\"<ipython-input-64-a030d442effc>\"\u001b[1;36m, line \u001b[1;32m35\u001b[0m\n\u001b[1;33m    print(i,\\t x,\\t y)\u001b[0m\n\u001b[1;37m                      ^\u001b[0m\n\u001b[1;31mSyntaxError\u001b[0m\u001b[1;31m:\u001b[0m unexpected character after line continuation character\n"
     ]
    }
   ],
   "source": [
    "with open (\"exampledata.txt\",'r') as f:\n",
    "    i = 0                                       #it works even without use of i\n",
    "    X = []                                      # create blank list for x axis values\n",
    "    Y = []\n",
    "    R= []\n",
    "    for eachline in f:                              #each lin in file f\n",
    "        #print(eachline)\n",
    "        if eachline.startswith(\"#\"):                #if line start with # character, continue without doing any work\n",
    "            #print(eachline)\n",
    "            continue\n",
    "        else:                                   #if line start with othern than # then slpit the line by a space ' '\n",
    "            lineParts = eachline.split(' ')\n",
    "            #print(lineParts)\n",
    "            t = lineParts[0]                    # after slpit, 0 intexed value is time\n",
    "            #print(t)\n",
    "            x = float(lineParts[1])             # 1 intexed value is x, check w/wo float()\n",
    "            #print(x)\n",
    "            X.append(x)                         # add values of x in list X\n",
    "            #print(X)\n",
    "            y = float(lineParts[2])        \n",
    "            #print(y)\n",
    "            r = y / x\n",
    "            #print(r)\n",
    "            R.append(r)\n",
    "            #print(R)\n",
    "            #print(len(R))\n",
    "            \n",
    "        \n",
    "            #print(\"resistance = \", r,\"Ohm\")\n",
    "            Y.append(y)\n",
    "            '''print(Y)'''                       # two ways of commenting\n",
    "            #print(Y)\n",
    "            print(i,x,y)\n",
    "            i = i + 1\n",
    "            print(i,\\t x,\\t y)\n",
    "            i = i + 1\n",
    "            #r = y/x\n",
    "#print(R)            \n",
    "#print(sum(R))\n",
    "#avg=sum(R)/len(R)\n",
    "#print(avg)\n",
    "print(\"Resistance = \", avg ,\"Ohm\")\n",
    "#print(i,x,y)\n",
    "#print(X,Y)\n",
    "#plt.figure(figsize = [4,4])                      #figsize(width, height) in inches\n",
    "plt.scatter(X,Y,color = 'r', marker = 'o')       # try withh plt.plot\n",
    "#plt.axis([0, 20, 0, 10])                         #axis[xmin,xmax, ymin,ymax]\n",
    "#another way to set axis limit\n",
    "#plt.xlim(xmin,xmax)\n",
    "#plt.ylim(ymin,ymax)\n",
    "#plt.title('Practice, NPSSC2020', fontsize=16)\n",
    "#plt.xlabel('Current (A)', fontsize=14)\n",
    "#plt.ylabel('Voltage (V)', fontsize=14)\n",
    "#plt.tight_layout()                             # this is for margin\n",
    "plt.grid(True)                                 # comment this if u do not need grid\n",
    "#plt.savefig(\"testplot.png\")                    # png, jpg, eps, pdf as u like\n",
    "#plt.plot()\n",
    "plt.show()"
   ]
  },
  {
   "cell_type": "code",
   "execution_count": null,
   "metadata": {},
   "outputs": [],
   "source": []
  },
  {
   "cell_type": "code",
   "execution_count": null,
   "metadata": {},
   "outputs": [],
   "source": []
  },
  {
   "cell_type": "code",
   "execution_count": null,
   "metadata": {},
   "outputs": [],
   "source": []
  }
 ],
 "metadata": {
  "kernelspec": {
   "display_name": "Python 3",
   "language": "python",
   "name": "python3"
  },
  "language_info": {
   "codemirror_mode": {
    "name": "ipython",
    "version": 3
   },
   "file_extension": ".py",
   "mimetype": "text/x-python",
   "name": "python",
   "nbconvert_exporter": "python",
   "pygments_lexer": "ipython3",
   "version": "3.6.4"
  }
 },
 "nbformat": 4,
 "nbformat_minor": 4
}
